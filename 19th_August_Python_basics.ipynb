{
  "nbformat": 4,
  "nbformat_minor": 0,
  "metadata": {
    "colab": {
      "provenance": [],
      "authorship_tag": "ABX9TyPLA2NwHyrVg8ecdSot1UYK",
      "include_colab_link": true
    },
    "kernelspec": {
      "name": "python3",
      "display_name": "Python 3"
    },
    "language_info": {
      "name": "python"
    }
  },
  "cells": [
    {
      "cell_type": "markdown",
      "metadata": {
        "id": "view-in-github",
        "colab_type": "text"
      },
      "source": [
        "<a href=\"https://colab.research.google.com/github/Shubhragite/Candy-crush-clone/blob/main/19th_August_Python_basics.ipynb\" target=\"_parent\"><img src=\"https://colab.research.google.com/assets/colab-badge.svg\" alt=\"Open In Colab\"/></a>"
      ]
    },
    {
      "cell_type": "code",
      "execution_count": 2,
      "metadata": {
        "id": "Sym-3SdF2P9S"
      },
      "outputs": [],
      "source": [
        "# python basics assignments.\n",
        "# I will be solving string based problems first."
      ]
    },
    {
      "cell_type": "code",
      "source": [
        "#string based problems:-\n",
        "\n",
        "#Q.1 . Write a Python program that takes a string as input and prints the length of the string.\n",
        "#solution:-\n",
        "#taking string as input\n",
        "\n",
        "my_str= input()\n",
        "string_length = len(my_str) #Using the len() function to get the length of the string\n",
        "print(\"length of the string: \", string_length)\n",
        "\n"
      ],
      "metadata": {
        "colab": {
          "base_uri": "https://localhost:8080/"
        },
        "id": "Bt88Djk12u4G",
        "outputId": "a7792af3-da16-4e29-fe37-8057755a2e01"
      },
      "execution_count": 3,
      "outputs": [
        {
          "output_type": "stream",
          "name": "stdout",
          "text": [
            "My name is Shubhra Gite\n",
            "length of the string:  23\n"
          ]
        }
      ]
    },
    {
      "cell_type": "code",
      "source": [
        "#Q.2 Create a program that takes a sentence from the user and counts the number of vowels (a, e, i, o, u) in the string.\n",
        "#solution\n",
        "\n",
        "#make a function\n",
        "def count_vowels(sentence):\n",
        "    # Define a string containing all vowels\n",
        "    vowels = \"aeiouAEIOU\"\n",
        "\n",
        "    # Initialize a counter for vowels\n",
        "    vowel_count = 0\n",
        "\n",
        "    # Iterate through each character in the sentence\n",
        "    for char in sentence:\n",
        "        # Check if the character is a vowel\n",
        "        if char in vowels:\n",
        "            vowel_count += 1\n",
        "\n",
        "    return vowel_count\n",
        "\n",
        "# Get a sentence from the user\n",
        "user_sentence = input(\"Enter a sentence: \")\n",
        "\n",
        "# Call the count_vowels function\n",
        "result = count_vowels(user_sentence)\n",
        "\n",
        "# Display the result\n",
        "print(\"Number of vowels in the sentence:\", result)\n"
      ],
      "metadata": {
        "colab": {
          "base_uri": "https://localhost:8080/"
        },
        "id": "wdEw29924bTw",
        "outputId": "1dced11e-57f2-4878-af16-414f4622da60"
      },
      "execution_count": 8,
      "outputs": [
        {
          "output_type": "stream",
          "name": "stdout",
          "text": [
            "Enter a sentence: A girl was suffering from mental illness. she should find a therapist.\n",
            "Number of vowels in the sentence: 19\n"
          ]
        }
      ]
    },
    {
      "cell_type": "code",
      "source": [
        "#Q.3 . Given a string, reverse the order of characters using string slicing and printthe reversed string.\n",
        "#solution:-\n",
        "\n",
        "#input string\n",
        "my_string = input(\"Enter the string: \")\n",
        "reversed_string= my_string[::-1] #reversing the string using slicing operation\n",
        "\n",
        "print(\"The reversed string is: \", reversed_string)\n"
      ],
      "metadata": {
        "colab": {
          "base_uri": "https://localhost:8080/"
        },
        "id": "Xr85_9JI8mc5",
        "outputId": "b2a139e0-980a-4ba4-edbb-d8db8cb7a893"
      },
      "execution_count": 23,
      "outputs": [
        {
          "output_type": "stream",
          "name": "stdout",
          "text": [
            "Enter the string: My name is shubhra gite\n",
            "The reversed string is:  etig arhbuhs si eman yM\n"
          ]
        }
      ]
    },
    {
      "cell_type": "code",
      "source": [
        "#Q.4 Write a program that takes a string as input and checks if it is a palindrome\n",
        "#solution\n",
        "\n",
        "def is_palin(sentence):\n",
        "  #checking if the string is equal to its reverse\n",
        "  return sentence == sentence[::-1]\n",
        "\n",
        "user_input= input(\"Enter the string: \")\n",
        "if is_palin(user_input):\n",
        "    print(\"The entered string is a palindrome\")\n",
        "else:\n",
        "    print(\"The entered string is not a palindrome\")\n",
        "\n"
      ],
      "metadata": {
        "colab": {
          "base_uri": "https://localhost:8080/"
        },
        "id": "UaWy39Rt_Av8",
        "outputId": "18b837ac-7406-4a7a-b947-df63c2966660"
      },
      "execution_count": 32,
      "outputs": [
        {
          "output_type": "stream",
          "name": "stdout",
          "text": [
            "Enter the string: shuhs\n",
            "The enteredstring is a palindrome\n"
          ]
        }
      ]
    },
    {
      "cell_type": "code",
      "source": [
        "#Q.5 Create a program that takes a string as input and removes all the spaces from it. Print the modified string without spaces.\n",
        "#solution:-\n",
        "\n",
        "string= input(\"Enter the sentence: \")\n",
        "sentence = string.replace(\" \", \"\")\n",
        "\n",
        "print(\"The sentence without space is: \", sentence)"
      ],
      "metadata": {
        "colab": {
          "base_uri": "https://localhost:8080/"
        },
        "id": "JBxpRQ3hKNW1",
        "outputId": "161d8236-9036-4033-f180-e1890cb4ead9"
      },
      "execution_count": 35,
      "outputs": [
        {
          "output_type": "stream",
          "name": "stdout",
          "text": [
            "Enter the sentence: She is a naturally beautiful woman from her heart. She owns the whole world inside her heart.\n",
            "The sentence without space is:  Sheisanaturallybeautifulwomanfromherheart.Sheownsthewholeworldinsideherheart.\n"
          ]
        }
      ]
    },
    {
      "cell_type": "code",
      "source": [
        "#PYTHON BASICS VARIABLE SOLUTION\n",
        "#Q.1 Declare two variables, `x` and `y`, and assign them integer values. Swap the values of these variables without using any temporary variable.\n",
        "#solution\n",
        "# Declare and assign values to variables\n",
        "x = 5\n",
        "y = 10\n",
        "\n",
        "# Swap values without using a temporary variable\n",
        "x, y = y, x\n",
        "\n",
        "# Print the swapped values\n",
        "print(\"After swapping, x =\", x)\n",
        "print(\"After swapping, y =\", y)\n"
      ],
      "metadata": {
        "colab": {
          "base_uri": "https://localhost:8080/"
        },
        "id": "9hmhmsQ3Ntlz",
        "outputId": "2b54bf26-6d3a-4923-c7e9-f028f2577897"
      },
      "execution_count": 36,
      "outputs": [
        {
          "output_type": "stream",
          "name": "stdout",
          "text": [
            "After swapping, x = 10\n",
            "After swapping, y = 5\n"
          ]
        }
      ]
    },
    {
      "cell_type": "code",
      "source": [
        "#Q.2 Create a program that calculates the area of a rectangle. Take the length anD width as inputs from the user and store them in variables. Calculate and display the area\n",
        "#solution\n",
        "# Get length and width from the user\n",
        "length = float(input(\"Enter the length of the rectangle: \"))\n",
        "width = float(input(\"Enter the width of the rectangle: \"))\n",
        "\n",
        "# Calculate the area of the rectangle\n",
        "area = length * width\n",
        "\n",
        "# Display the result\n",
        "print(\"The area of the rectangle is:\", area)\n"
      ],
      "metadata": {
        "colab": {
          "base_uri": "https://localhost:8080/"
        },
        "id": "pN3JrvawPIzY",
        "outputId": "8ea9ee63-1e83-4054-8813-c287fdd253c5"
      },
      "execution_count": 37,
      "outputs": [
        {
          "output_type": "stream",
          "name": "stdout",
          "text": [
            "Enter the length of the rectangle: 45\n",
            "Enter the width of the rectangle: 25896\n",
            "The area of the rectangle is: 1165320.0\n"
          ]
        }
      ]
    },
    {
      "cell_type": "code",
      "source": [
        "#Q.3 Write a Python program that converts temperatures from Celsius to Fahrenheit. Take the temperature in Celsius as input, store it in a variable,convert it to Fahrenheit, and display the result.\n",
        "#SOLUTION\n",
        "# Get temperature in Celsius from the user\n",
        "celsius = float(input(\"Enter the temperature in Celsius: \"))\n",
        "\n",
        "# Convert Celsius to Fahrenheit\n",
        "fahrenheit = (celsius * 9/5) + 32\n",
        "\n",
        "# Display the result\n",
        "print(f\"The temperature in Fahrenheit is: {fahrenheit:.2f}°F\")\n",
        "\n"
      ],
      "metadata": {
        "colab": {
          "base_uri": "https://localhost:8080/"
        },
        "id": "AUIAh8fyPZF2",
        "outputId": "84cb9fc3-4514-41b4-f336-f4c6856d6d9a"
      },
      "execution_count": 38,
      "outputs": [
        {
          "output_type": "stream",
          "name": "stdout",
          "text": [
            "Enter the temperature in Celsius: 9989\n",
            "The temperature in Fahrenheit is: 18012.20°F\n"
          ]
        }
      ]
    },
    {
      "cell_type": "code",
      "source": [],
      "metadata": {
        "id": "-Ku3hAJEPqD2"
      },
      "execution_count": null,
      "outputs": []
    }
  ]
}